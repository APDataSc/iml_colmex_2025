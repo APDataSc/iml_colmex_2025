{
  "nbformat": 4,
  "nbformat_minor": 0,
  "metadata": {
    "colab": {
      "provenance": []
    },
    "kernelspec": {
      "name": "python3",
      "display_name": "Python 3"
    },
    "language_info": {
      "name": "python"
    }
  },
  "cells": [
    {
      "cell_type": "markdown",
      "source": [
        "# **Final Project on Introduction to Machine Learning**\n",
        "## Andrés Peña Montalvo\n",
        "## 23-05-2025"
      ],
      "metadata": {
        "id": "oj7R7OgwJo7X"
      }
    },
    {
      "cell_type": "code",
      "source": [
        "# instalación de pycaret\n",
        "pip install git+https://github.com/pycaret/pycaret.git@master --upgrade"
      ],
      "metadata": {
        "id": "rgUsCXu7J5NT"
      },
      "execution_count": null,
      "outputs": []
    },
    {
      "cell_type": "code",
      "source": [
        "# check installed version\n",
        "import pycaret\n",
        "pycaret.__version__"
      ],
      "metadata": {
        "id": "Cl0yFYeeJ621"
      },
      "execution_count": null,
      "outputs": []
    },
    {
      "cell_type": "code",
      "source": [
        "# importando librerías para regresión\n",
        "from pycaret.regression import *"
      ],
      "metadata": {
        "id": "PbMXGl1DKBBu"
      },
      "execution_count": null,
      "outputs": []
    },
    {
      "cell_type": "code",
      "source": [
        "# leyendo la tabla de datos alojada en github\n",
        "import pandas as pd\n",
        "github_url = \"https://raw.githubusercontent.com/APDataSc/mli_colmex_2025/refs/heads/main/cpv_geo_2022.csv\"\n",
        "df = pd.read_csv(github_url)\n",
        "print(df.head())"
      ],
      "metadata": {
        "id": "7in-CGJ8KB_d"
      },
      "execution_count": null,
      "outputs": []
    },
    {
      "cell_type": "code",
      "source": [
        "# dimensiones\n",
        "print(df.shape)"
      ],
      "metadata": {
        "id": "6NA7JVLeKXBW"
      },
      "execution_count": null,
      "outputs": []
    },
    {
      "cell_type": "code",
      "source": [
        "# preprocesamiento\n",
        "df['nivel_peligrosidad'] = 4 - df['nivel_peligrosidad']  # 1→3, 2→2, 3→1\n",
        "\n",
        "X = df.drop(columns=[\"tot_person\", 'id_prov', 'tot_viv_vopp', 'id_can', 'id_parr', 'id_sector', 'tot_viv',\n",
        "                     'nivel_urbanizacion', 'num_cuartos', 'num_hogares', 'tot_viv_colectivas', 'id_zona',\n",
        "                     'tot_otra_particular', 'tot_viv_otra', 'tot_viv_col'])\n",
        "y = df[\"tot_person\"]\n",
        "\n",
        "from sklearn.model_selection import train_test_split\n",
        "\n",
        "# Dividir los datos en conjuntos de entrenamiento y prueba\n",
        "X_train, X_test, y_train, y_test = train_test_split(X, y, test_size=0.20)"
      ],
      "metadata": {
        "id": "xR4dghtnKdoW"
      },
      "execution_count": null,
      "outputs": []
    },
    {
      "cell_type": "code",
      "source": [
        "import pandas as pd\n",
        "# Combinar X_train y y_train\n",
        "df_train = pd.concat([X_train.reset_index(drop=True),\n",
        "                     y_train.reset_index(drop=True)], axis=1)\n",
        "\n",
        "# Declare categorical columns\n",
        "# categorical_cols = ['id_zona']"
      ],
      "metadata": {
        "id": "tvOlEpQVKmgk"
      },
      "execution_count": null,
      "outputs": []
    },
    {
      "cell_type": "code",
      "source": [
        "# visualizar la tabla de entrenamiento\n",
        "df_train.head()"
      ],
      "metadata": {
        "id": "rYW1qjXnKzF5"
      },
      "execution_count": null,
      "outputs": []
    },
    {
      "cell_type": "code",
      "source": [
        "# setup PyCaret for regression\n",
        "s = setup(\n",
        "    data=df_train,\n",
        "    target='tot_person',  # Numerical target variable\n",
        "    session_id=123,       # For reproducibility\n",
        "    normalize=True,       # Optional: scales numeric features\n",
        "    train_size=0.8,        # 80% training, 20% validation (adjust as needed)\n",
        "    #categorical_features=categorical_cols\n",
        "    )"
      ],
      "metadata": {
        "id": "37ftZXQ1K3g4"
      },
      "execution_count": null,
      "outputs": []
    },
    {
      "cell_type": "code",
      "source": [
        "# compare baseline models\n",
        "best_model = compare_models(sort='RMSE', exclude=['rf', 'et'])"
      ],
      "metadata": {
        "id": "QNNJ3p7kK9lk"
      },
      "execution_count": null,
      "outputs": []
    },
    {
      "cell_type": "code",
      "source": [
        "# importancia de las covariables\n",
        "plot_model(best_model, plot='feature_all')"
      ],
      "metadata": {
        "id": "W2E8x349LCXO"
      },
      "execution_count": null,
      "outputs": []
    },
    {
      "cell_type": "code",
      "source": [
        "# gráfica SHAP\n",
        "interpret_model(best_model)"
      ],
      "metadata": {
        "id": "_VRsMmlwLNpa"
      },
      "execution_count": null,
      "outputs": []
    },
    {
      "cell_type": "code",
      "source": [
        "# residuales\n",
        "plot_model(best_model, plot='residuals')"
      ],
      "metadata": {
        "id": "QqFr91esLXR5"
      },
      "execution_count": null,
      "outputs": []
    },
    {
      "cell_type": "code",
      "source": [
        "# gráfica de error de predicción\n",
        "plot_model(best_model, plot='error')"
      ],
      "metadata": {
        "id": "5K1jrUY3Lee_"
      },
      "execution_count": null,
      "outputs": []
    },
    {
      "cell_type": "code",
      "source": [
        "# distancia de Cook para atípicos\n",
        "plot_model(best_model, plot='cooks')"
      ],
      "metadata": {
        "id": "px8jh29zLt0E"
      },
      "execution_count": null,
      "outputs": []
    },
    {
      "cell_type": "code",
      "source": [
        "# número de covariables seleccionadas\n",
        "plot_model(best_model, plot='rfe')"
      ],
      "metadata": {
        "id": "acMXaCA0L2z6"
      },
      "execution_count": null,
      "outputs": []
    },
    {
      "cell_type": "code",
      "source": [
        "# tuneo de hyperparametros\n",
        "tuned_model = tune_model(best_model, optimize = 'RMSE', fold=10)"
      ],
      "metadata": {
        "id": "jxMj4XjTMCVK"
      },
      "execution_count": null,
      "outputs": []
    },
    {
      "cell_type": "code",
      "source": [
        "# Finalize the best model\n",
        "final_model = finalize_model(tuned_model)"
      ],
      "metadata": {
        "id": "RQ7B8oiBMJKR"
      },
      "execution_count": null,
      "outputs": []
    },
    {
      "cell_type": "code",
      "source": [
        "# Save the model\n",
        "save_model(final_model, 'my_regression_model')"
      ],
      "metadata": {
        "id": "lmKoOy5dMN1g"
      },
      "execution_count": null,
      "outputs": []
    },
    {
      "cell_type": "code",
      "source": [
        "# error de predicción con modelo tuneado\n",
        "plot_model(final_model, plot='error')"
      ],
      "metadata": {
        "id": "02JN9KQ1MUxt"
      },
      "execution_count": null,
      "outputs": []
    }
  ]
}
